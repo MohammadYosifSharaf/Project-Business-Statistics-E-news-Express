{
  "cells": [
    {
      "cell_type": "markdown",
      "metadata": {
        "id": "6yDxo9u0d9Na"
      },
      "source": [
        "# Project Business Statistics: E-news Express\n",
        "\n",
        "By: Mohammad Sharaf,\n",
        "At : 12 Nov 2022"
      ],
      "id": "6yDxo9u0d9Na"
    },
    {
      "cell_type": "markdown",
      "metadata": {
        "id": "SrLd-ICEmPSD"
      },
      "source": [
        "## Define Problem Statement and Objectives"
      ],
      "id": "SrLd-ICEmPSD"
    },
    {
      "cell_type": "markdown",
      "metadata": {
        "id": "9Vt1PLLqmXNn"
      },
      "source": [
        "The advent of e-news, or electronic news, portals has offered us a great opportunity to quickly get updates on the day-to-day events occurring globally. The information on these portals is retrieved electronically from online databases, processed using a variety of software, and then transmitted to the users. There are multiple advantages of transmitting new electronically, like faster access to the content and the ability to utilize different technologies such as audio, graphics, video, and other interactive elements that are either not being used or aren’t common yet in traditional newspapers.\n",
        "\n",
        "E-news Express, an online news portal, aims to expand its business by acquiring new subscribers. With every visitor to the website taking certain actions based on their interest, the company plans to analyze these actions to understand user interests and determine how to drive better engagement. The executives at E-news Express are of the opinion that there has been a decline in new monthly subscribers compared to the past year because the current webpage is not designed well enough in terms of the outline & recommended content to keep customers engaged long enough to make a decision to subscribe.\n",
        "\n",
        "[Companies often analyze user responses to two variants of a product to decide which of the two variants is more effective. This experimental technique, known as A/B testing, is used to determine whether a new feature attracts users based on a chosen metric.]\n",
        "\n",
        "#Objective\n",
        "The design team of the company has researched and created a new landing page that has a new outline & more relevant content shown compared to the old page. In order to test the effectiveness of the new landing page in gathering new subscribers, the Data Science team conducted an experiment by randomly selecting 100 users and dividing them equally into two groups. The existing landing page was served to the first group (control group) and the new landing page to the second group (treatment group). Data regarding the interaction of users in both groups with the two versions of the landing page was collected. Being a data scientist in E-news Express, you have been asked to explore the data and perform a statistical analysis (at a significance level of 5%) to determine the effectiveness of the new landing page in gathering new subscribers for the news portal by answering the following questions:\n",
        "\n",
        "- Do the users spend more time on the new landing page than on the existing landing page?\n",
        "- Is the conversion rate (the proportion of users who visit the landing page and get converted) for the new page greater than the conversion rate for the old page?\n",
        "- Does the converted status depend on the preferred language?\n",
        "- Is the time spent on the new page the same for the different language users?\n",
        "\n",
        "\n",
        "#Data Dictionary\n",
        "The data contains information regarding the interaction of users in both groups with the two versions of the landing page.\n",
        "\n",
        "- user_id - Unique user ID of the person visiting the website\n",
        "- group - Whether the user belongs to the first group (control) or the second group (treatment)\n",
        "- landing_page - Whether the landing page is new or old\n",
        "- time_spent_on_the_page - Time (in minutes) spent by the user on the landing page\n",
        "- converted - Whether the user gets converted to a subscriber of the news portal or not\n",
        "- language_preferred - Language chosen by the user to view the landing page\n"
      ],
      "id": "9Vt1PLLqmXNn"
    },
    {
      "cell_type": "markdown",
      "metadata": {
        "id": "a6a3d218"
      },
      "source": [
        "## Import all the necessary libraries"
      ],
      "id": "a6a3d218"
    },
    {
      "cell_type": "code",
      "execution_count": null,
      "metadata": {
        "colab": {
          "background_save": true
        },
        "id": "658c5dec"
      },
      "outputs": [],
      "source": [
        "import numpy as np #library used for working with arrays\n",
        "import pandas as pd #library used for data manipulation and analysis\n",
        "import matplotlib.pyplot as plt #library for plots and visualisations\n",
        "import seaborn as sns #library for visualisations\n",
        "sns.set_theme(style=\"darkgrid\")\n",
        "%matplotlib inline\n",
        "\n",
        "import scipy.stats as stats #this library contains a large number of probability distributions and statistical functions"
      ],
      "id": "658c5dec"
    },
    {
      "cell_type": "markdown",
      "metadata": {
        "id": "6970dd99"
      },
      "source": [
        "## Reading the Data into a DataFrame\n",
        "\n",
        "---\n",
        "\n"
      ],
      "id": "6970dd99"
    },
    {
      "cell_type": "code",
      "execution_count": null,
      "metadata": {
        "colab": {
          "background_save": true
        },
        "id": "d3b95640"
      },
      "outputs": [],
      "source": [
        "# read the data from a shared link\n",
        "url ='https://drive.google.com/file/d/1RfJgcBGtOJmgKCMMXQfAXbQAH6LzJ0JQ/view?usp=share_link';\n",
        "file_id=url.split('/')[-2];\n",
        "dwn_url='https://drive.google.com/uc?id=' + file_id;\n",
        "df = pd.read_csv(dwn_url);"
      ],
      "id": "d3b95640"
    },
    {
      "cell_type": "markdown",
      "metadata": {
        "id": "9d75cfa2"
      },
      "source": [
        "## Explore the dataset and extract insights using Exploratory Data Analysis"
      ],
      "id": "9d75cfa2"
    },
    {
      "cell_type": "markdown",
      "metadata": {
        "id": "27201534"
      },
      "source": [
        "- Data Overview\n",
        "  - Viewing the first and last few rows of the dataset\n",
        "  - Checking the shape of the dataset\n",
        "  - Getting the statistical summary for the variables\n",
        "- Check for missing values\n",
        "- Check for duplicates"
      ],
      "id": "27201534"
    },
    {
      "cell_type": "code",
      "execution_count": null,
      "metadata": {
        "colab": {
          "base_uri": "https://localhost:8080/"
        },
        "id": "e1ad11d4",
        "outputId": "45ad5d69-c100-48f1-dd76-983547c65e18"
      },
      "outputs": [
        {
          "name": "stdout",
          "output_type": "stream",
          "text": [
            "First 5 rows :\n",
            "   user_id      group landing_page  time_spent_on_the_page converted  \\\n",
            "0   546592    control          old                    3.48        no   \n",
            "1   546468  treatment          new                    7.13       yes   \n",
            "2   546462  treatment          new                    4.40        no   \n",
            "3   546567    control          old                    3.02        no   \n",
            "4   546459  treatment          new                    4.75       yes   \n",
            "\n",
            "  language_preferred  \n",
            "0            Spanish  \n",
            "1            English  \n",
            "2            Spanish  \n",
            "3             French  \n",
            "4            Spanish  \n",
            "________________________________________________\n",
            "Last 5 rows :\n",
            "    user_id      group landing_page  time_spent_on_the_page converted  \\\n",
            "95   546446  treatment          new                    5.15        no   \n",
            "96   546544    control          old                    6.52       yes   \n",
            "97   546472  treatment          new                    7.07       yes   \n",
            "98   546481  treatment          new                    6.20       yes   \n",
            "99   546483  treatment          new                    5.86       yes   \n",
            "\n",
            "   language_preferred  \n",
            "95            Spanish  \n",
            "96            English  \n",
            "97            Spanish  \n",
            "98            Spanish  \n",
            "99            English  \n",
            "________________________________________________\n",
            "Num of rows / Num of columns :  (100, 6)\n",
            "________________________________________________\n",
            "Missing Values\n",
            "user_id                   0\n",
            "group                     0\n",
            "landing_page              0\n",
            "time_spent_on_the_page    0\n",
            "converted                 0\n",
            "language_preferred        0\n",
            "dtype: int64\n",
            "________________________________________________\n",
            "Duplicate Values\n",
            "0     False\n",
            "1     False\n",
            "2     False\n",
            "3     False\n",
            "4     False\n",
            "      ...  \n",
            "95    False\n",
            "96    False\n",
            "97    False\n",
            "98    False\n",
            "99    False\n",
            "Length: 100, dtype: bool\n"
          ]
        }
      ],
      "source": [
        "# Viewing the first and last few rows of the dataset\n",
        "print('First 5 rows :');\n",
        "print(df.head(5));\n",
        "print('________________________________________________');\n",
        "print('Last 5 rows :');\n",
        "print(df.tail(5));\n",
        "print('________________________________________________');\n",
        "\n",
        "#Checking the shape of the dataset\n",
        "print('Num of rows / Num of columns : ',df.shape);\n",
        "print('________________________________________________');\n",
        "print('Missing Values');\n",
        "# To check if we have missing values we can use isNull method, as you can see we have no missing values.\n",
        "print(df.isnull().sum());\n",
        "print('________________________________________________');\n",
        "print('Duplicate Values');\n",
        "# To check if we have Duplicate values we can use duplicated method.\n",
        "print(df.duplicated());"
      ],
      "id": "e1ad11d4"
    },
    {
      "cell_type": "markdown",
      "metadata": {
        "id": "68f3b2c9"
      },
      "source": [
        "### Univariate Analysis"
      ],
      "id": "68f3b2c9"
    },
    {
      "cell_type": "code",
      "execution_count": null,
      "metadata": {
        "id": "1932d0f3"
      },
      "outputs": [],
      "source": [],
      "id": "1932d0f3"
    },
    {
      "cell_type": "markdown",
      "metadata": {
        "id": "fad2de2f"
      },
      "source": [
        "### Bivariate Analysis"
      ],
      "id": "fad2de2f"
    },
    {
      "cell_type": "code",
      "execution_count": null,
      "metadata": {
        "id": "58e9a1d0"
      },
      "outputs": [],
      "source": [],
      "id": "58e9a1d0"
    },
    {
      "cell_type": "markdown",
      "metadata": {
        "id": "27906576"
      },
      "source": [
        "## 1. Do the users spend more time on the new landing page than the existing landing page?"
      ],
      "id": "27906576"
    },
    {
      "cell_type": "markdown",
      "metadata": {
        "id": "e5fdf0c8"
      },
      "source": [
        "### Perform Visual Analysis"
      ],
      "id": "e5fdf0c8"
    },
    {
      "cell_type": "code",
      "execution_count": null,
      "metadata": {
        "id": "6eZJa41eg21n"
      },
      "outputs": [],
      "source": [],
      "id": "6eZJa41eg21n"
    },
    {
      "cell_type": "markdown",
      "metadata": {
        "id": "56b3dafd"
      },
      "source": [
        "### Step 1: Define the null and alternate hypotheses"
      ],
      "id": "56b3dafd"
    },
    {
      "cell_type": "markdown",
      "metadata": {
        "id": "d2ac77ef"
      },
      "source": [],
      "id": "d2ac77ef"
    },
    {
      "cell_type": "markdown",
      "metadata": {
        "id": "c7ee4907"
      },
      "source": [
        "### Step 2: Select Appropriate test"
      ],
      "id": "c7ee4907"
    },
    {
      "cell_type": "markdown",
      "metadata": {
        "id": "2c183cd7"
      },
      "source": [],
      "id": "2c183cd7"
    },
    {
      "cell_type": "markdown",
      "metadata": {
        "id": "3f58c9a7"
      },
      "source": [
        "### Step 3: Decide the significance level"
      ],
      "id": "3f58c9a7"
    },
    {
      "cell_type": "markdown",
      "metadata": {
        "id": "92d7d7ee"
      },
      "source": [],
      "id": "92d7d7ee"
    },
    {
      "cell_type": "markdown",
      "metadata": {
        "id": "5fed2eac"
      },
      "source": [
        "### Step 4: Collect and prepare data"
      ],
      "id": "5fed2eac"
    },
    {
      "cell_type": "code",
      "execution_count": null,
      "metadata": {
        "id": "f5a59495"
      },
      "outputs": [],
      "source": [],
      "id": "f5a59495"
    },
    {
      "cell_type": "markdown",
      "metadata": {
        "id": "f5c5258d"
      },
      "source": [
        "### Step 5: Calculate the p-value"
      ],
      "id": "f5c5258d"
    },
    {
      "cell_type": "code",
      "execution_count": null,
      "metadata": {
        "id": "fac8594a"
      },
      "outputs": [],
      "source": [],
      "id": "fac8594a"
    },
    {
      "cell_type": "markdown",
      "metadata": {
        "id": "359b12f8"
      },
      "source": [
        "### Step 6: Compare the p-value with $\\alpha$"
      ],
      "id": "359b12f8"
    },
    {
      "cell_type": "code",
      "execution_count": null,
      "metadata": {
        "id": "7be47289"
      },
      "outputs": [],
      "source": [],
      "id": "7be47289"
    },
    {
      "cell_type": "markdown",
      "metadata": {
        "id": "d9affc84"
      },
      "source": [
        "### Step 7:  Draw inference"
      ],
      "id": "d9affc84"
    },
    {
      "cell_type": "markdown",
      "metadata": {
        "id": "6b16dd4b"
      },
      "source": [],
      "id": "6b16dd4b"
    },
    {
      "cell_type": "markdown",
      "metadata": {
        "id": "1ad0823a"
      },
      "source": [
        "**A similar approach can be followed to answer the other questions.**"
      ],
      "id": "1ad0823a"
    },
    {
      "cell_type": "markdown",
      "metadata": {
        "id": "353e9d24"
      },
      "source": [
        "## 2. Is the conversion rate (the proportion of users who visit the landing page and get converted) for the new page greater than the conversion rate for the old page?"
      ],
      "id": "353e9d24"
    },
    {
      "cell_type": "code",
      "execution_count": null,
      "metadata": {
        "id": "b7f52898"
      },
      "outputs": [],
      "source": [],
      "id": "b7f52898"
    },
    {
      "cell_type": "markdown",
      "metadata": {
        "id": "d49bfa2d"
      },
      "source": [
        "## 3. Is the conversion and preferred language are independent or related?"
      ],
      "id": "d49bfa2d"
    },
    {
      "cell_type": "code",
      "execution_count": null,
      "metadata": {
        "id": "b0e63f17"
      },
      "outputs": [],
      "source": [],
      "id": "b0e63f17"
    },
    {
      "cell_type": "markdown",
      "metadata": {
        "id": "8d585a90"
      },
      "source": [
        "## 4. Is the time spent on the new page same for the different language users?"
      ],
      "id": "8d585a90"
    },
    {
      "cell_type": "code",
      "execution_count": null,
      "metadata": {
        "id": "b422f395"
      },
      "outputs": [],
      "source": [],
      "id": "b422f395"
    },
    {
      "cell_type": "markdown",
      "metadata": {
        "id": "3acbc947"
      },
      "source": [
        "## Conclusion and Business Recommendations"
      ],
      "id": "3acbc947"
    },
    {
      "cell_type": "markdown",
      "metadata": {
        "id": "21fb1063"
      },
      "source": [],
      "id": "21fb1063"
    },
    {
      "cell_type": "markdown",
      "metadata": {
        "id": "U0dAd4i0iCHo"
      },
      "source": [
        "___"
      ],
      "id": "U0dAd4i0iCHo"
    }
  ],
  "metadata": {
    "colab": {
      "collapsed_sections": [
        "fad2de2f",
        "e5fdf0c8",
        "56b3dafd",
        "c7ee4907",
        "3f58c9a7",
        "5fed2eac",
        "f5c5258d",
        "359b12f8",
        "d9affc84"
      ],
      "provenance": []
    },
    "kernelspec": {
      "display_name": "Python 3",
      "language": "python",
      "name": "python3"
    },
    "language_info": {
      "codemirror_mode": {
        "name": "ipython",
        "version": 3
      },
      "file_extension": ".py",
      "mimetype": "text/x-python",
      "name": "python",
      "nbconvert_exporter": "python",
      "pygments_lexer": "ipython3",
      "version": "3.8.8"
    }
  },
  "nbformat": 4,
  "nbformat_minor": 5
}